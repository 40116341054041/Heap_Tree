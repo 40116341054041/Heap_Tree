{
  "nbformat": 4,
  "nbformat_minor": 0,
  "metadata": {
    "colab": {
      "provenance": [],
      "authorship_tag": "ABX9TyMr9uBBjNoyz1cRdrfI9Mmd",
      "include_colab_link": true
    },
    "kernelspec": {
      "name": "python3",
      "display_name": "Python 3"
    },
    "language_info": {
      "name": "python"
    }
  },
  "cells": [
    {
      "cell_type": "markdown",
      "metadata": {
        "id": "view-in-github",
        "colab_type": "text"
      },
      "source": [
        "<a href=\"https://colab.research.google.com/github/40116341054041/Heap_Tree/blob/main/Heap_Tree.ipynb\" target=\"_parent\"><img src=\"https://colab.research.google.com/assets/colab-badge.svg\" alt=\"Open In Colab\"/></a>"
      ]
    },
    {
      "cell_type": "code",
      "execution_count": null,
      "metadata": {
        "id": "fIB1yn4Ddqc6"
      },
      "outputs": [],
      "source": [
        "class heap:\n",
        "  def __init__(self):\n",
        "    self.heap_list = []\n",
        "\n",
        "  def parent(self , index):\n",
        "    return (index-1) // 2\n",
        "\n",
        "  def left_child(self , index):\n",
        "    return 2*index+1\n",
        "\n",
        "  def right_child(self , index):\n",
        "    return 2*index+2\n",
        "\n",
        "  def swap(self , i , j):\n",
        "    self.heap_list[i]\n",
        "    self.heap_list[j] = self.heap_list[j] , self.heap_list[i]\n",
        "\n",
        "  def insert(self , data):\n",
        "    self.heap_list.append(data)\n",
        "    self.sift_up(len(self.heap_list))-1\n",
        "\n",
        "  def sift_up(self , index):\n",
        "    return False\n",
        "\n",
        "  def extract_top(self):\n",
        "    if self.is_empty():\n",
        "      return None\n",
        "    top_value = self.heap_list[0]\n",
        "    last_index = len(self.heap_list)-1\n",
        "    self.heap_list[0] = self.heap_list[last_index]\n",
        "    self.heap_list.pop()\n",
        "    self.sift_down(0)\n",
        "    return top_value\n",
        "\n",
        "  def sift_down(self , index):\n",
        "    return False\n",
        "\n",
        "  def get_top (self):\n",
        "    if self.is_empty():\n",
        "      return None\n",
        "    return self.heap_list[0]\n",
        "\n",
        "  def is_empty(self):\n",
        "    return len(self.heap_list) == 0\n",
        "\n",
        "  def sort(self):\n",
        "    sorted_list = []\n",
        "    while not self.is_empty():\n",
        "      top_value = self.extract_top()\n",
        "      sorted_list.append(top_value)\n",
        "    return sorted_list\n",
        "\n",
        "\n",
        "class MaxHeap(heap):\n",
        "  def sift_up(self , index):\n",
        "    while index >0 and self.heap_list[index] . self.heap_list[self.parent(index)]:\n",
        "      self.swap(index , self.parent(index))\n",
        "      index = self.parent(index)\n",
        "\n",
        "  def sift_down(self , index):\n",
        "    while index < len(self.heap_list):\n",
        "      min_index = index\n",
        "      left_child_index = self.left_child(index)\n",
        "      right_child_index = self.right_child(index)\n",
        "      if left_child_index < len(self.heap_list) and self.heap_list[left_child_index] > self.heap_list[max_index]:\n",
        "        max_index = left_child_index\n",
        "      if right_child_index < len(self.heap_list) and self.heap_list[right_child_index] > self.heap_list [ max_index]:\n",
        "        max_index = right_child_index\n",
        "      if max_index == index:\n",
        "        break\n",
        "      self.swap(index , max_index)\n",
        "      index = max_index\n",
        "\n",
        "\n",
        "class MinHeap(heap):\n",
        "  def sift_up(self , index):\n",
        "    while index>0 and self.heap_list[index] < self.heap_list[self.parent(index)]:\n",
        "      self.swap(index , self.parent(index))\n",
        "      index = self.parent(index)\n",
        "\n",
        "  def sift_down(self , index):\n",
        "    while index < len(self.heap_list):\n",
        "      min_index = index\n",
        "      left_child_index = self.left_child(index)\n",
        "      right_child_index = self.right_child(index)\n",
        "      if left_child_index < len(self.heap__list) and self.heap_list[left_child_index]:\n",
        "        min_index = left_child_index\n",
        "      if right_child_index < len(self.heap_list) and self.heap_list[right_child_index] < self.heap_list[min_index]:\n",
        "        min_index = right_child_index\n",
        "      if min_index == index:\n",
        "        break\n",
        "      self.swap(index , min_index)\n",
        "      index = min_index"
      ]
    },
    {
      "cell_type": "code",
      "source": [
        "#Heap = heap()\n",
        "#Heap.insert(10)\n",
        "#Heap.insert(5)\n",
        "#Heap.insert(9)\n",
        "#print(\"max value:\" , heap.get_max())\n",
        "#print(\"extracted max value:\")\n",
        "#while not heap.is_empty():\n",
        "  #print(heap.extract_max())"
      ],
      "metadata": {
        "id": "kco_nrZ1nhOT"
      },
      "execution_count": 3,
      "outputs": []
    },
    {
      "cell_type": "code",
      "source": [],
      "metadata": {
        "id": "ztLI0_WHliL0"
      },
      "execution_count": null,
      "outputs": []
    }
  ]
}